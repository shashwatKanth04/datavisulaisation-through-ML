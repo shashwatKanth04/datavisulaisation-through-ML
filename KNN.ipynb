{
  "nbformat": 4,
  "nbformat_minor": 0,
  "metadata": {
    "colab": {
      "provenance": [],
      "authorship_tag": "ABX9TyNeZXLnV+EcVsm6UDbY96zU",
      "include_colab_link": true
    },
    "kernelspec": {
      "name": "python3",
      "display_name": "Python 3"
    },
    "language_info": {
      "name": "python"
    }
  },
  "cells": [
    {
      "cell_type": "markdown",
      "metadata": {
        "id": "view-in-github",
        "colab_type": "text"
      },
      "source": [
        "<a href=\"https://colab.research.google.com/github/shashwatKanth04/datavisulaisation-through-ML/blob/main/KNN.ipynb\" target=\"_parent\"><img src=\"https://colab.research.google.com/assets/colab-badge.svg\" alt=\"Open In Colab\"/></a>"
      ]
    },
    {
      "cell_type": "code",
      "execution_count": 1,
      "metadata": {
        "id": "MN7S3og_-j4d"
      },
      "outputs": [],
      "source": [
        "from tensorflow import keras\n",
        "import matplotlib.pyplot as plt"
      ]
    },
    {
      "cell_type": "code",
      "source": [
        "from sklearn.metrics import accuracy_score,confusion_matrix,classification_report\n",
        "import numpy as np"
      ],
      "metadata": {
        "id": "SJKJj827-3Ix"
      },
      "execution_count": 2,
      "outputs": []
    },
    {
      "cell_type": "code",
      "source": [
        "import cv2\n",
        "from sklearn import metrics"
      ],
      "metadata": {
        "id": "LPiSFufo-4Kp"
      },
      "execution_count": 3,
      "outputs": []
    },
    {
      "cell_type": "code",
      "source": [
        "(x_train, y_train), (x_test, y_test) = keras.datasets.cifar10.load_data()"
      ],
      "metadata": {
        "colab": {
          "base_uri": "https://localhost:8080/"
        },
        "id": "22RABdw5-6fx",
        "outputId": "d20dec8a-8255-47a3-e2d1-4dfe1d4c6869"
      },
      "execution_count": 4,
      "outputs": [
        {
          "output_type": "stream",
          "name": "stdout",
          "text": [
            "Downloading data from https://www.cs.toronto.edu/~kriz/cifar-10-python.tar.gz\n",
            "170500096/170498071 [==============================] - 4s 0us/step\n",
            "170508288/170498071 [==============================] - 4s 0us/step\n"
          ]
        }
      ]
    },
    {
      "cell_type": "code",
      "source": [
        "x_train.shape,x_test.shape"
      ],
      "metadata": {
        "colab": {
          "base_uri": "https://localhost:8080/"
        },
        "id": "b1OotqIW-9Ps",
        "outputId": "2b384369-727f-48ac-87a5-b1a747742413"
      },
      "execution_count": 5,
      "outputs": [
        {
          "output_type": "execute_result",
          "data": {
            "text/plain": [
              "((50000, 32, 32, 3), (10000, 32, 32, 3))"
            ]
          },
          "metadata": {},
          "execution_count": 5
        }
      ]
    },
    {
      "cell_type": "code",
      "source": [
        "# Normalization\n",
        "x_train = x_train/255.0\n",
        "x_test = x_test/255.0"
      ],
      "metadata": {
        "id": "tTyPvg4c_BCq"
      },
      "execution_count": 6,
      "outputs": []
    },
    {
      "cell_type": "code",
      "source": [
        "nsamples, nx, ny, nrgb = x_train.shape\n",
        "x_train2 = x_train.reshape((nsamples,nx*ny*nrgb))\n",
        "x_train2"
      ],
      "metadata": {
        "colab": {
          "base_uri": "https://localhost:8080/"
        },
        "id": "017VFr7a_F4H",
        "outputId": "18309e91-5e64-4225-c4f1-0eb3b50ef09e"
      },
      "execution_count": 7,
      "outputs": [
        {
          "output_type": "execute_result",
          "data": {
            "text/plain": [
              "array([[0.23137255, 0.24313725, 0.24705882, ..., 0.48235294, 0.36078431,\n",
              "        0.28235294],\n",
              "       [0.60392157, 0.69411765, 0.73333333, ..., 0.56078431, 0.52156863,\n",
              "        0.56470588],\n",
              "       [1.        , 1.        , 1.        , ..., 0.31372549, 0.3372549 ,\n",
              "        0.32941176],\n",
              "       ...,\n",
              "       [0.1372549 , 0.69803922, 0.92156863, ..., 0.04705882, 0.12156863,\n",
              "        0.19607843],\n",
              "       [0.74117647, 0.82745098, 0.94117647, ..., 0.76470588, 0.74509804,\n",
              "        0.67058824],\n",
              "       [0.89803922, 0.89803922, 0.9372549 , ..., 0.63921569, 0.63921569,\n",
              "        0.63137255]])"
            ]
          },
          "metadata": {},
          "execution_count": 7
        }
      ]
    },
    {
      "cell_type": "code",
      "source": [
        "nsamples, nx, ny, nrgb = x_test.shape\n",
        "x_test2 = x_test.reshape((nsamples,nx*ny*nrgb))\n",
        "x_test2"
      ],
      "metadata": {
        "colab": {
          "base_uri": "https://localhost:8080/"
        },
        "id": "FBXlnBr6_KH2",
        "outputId": "33236628-9a6f-432b-dbeb-e8db3fdf712d"
      },
      "execution_count": 8,
      "outputs": [
        {
          "output_type": "execute_result",
          "data": {
            "text/plain": [
              "array([[0.61960784, 0.43921569, 0.19215686, ..., 0.08235294, 0.2627451 ,\n",
              "        0.43137255],\n",
              "       [0.92156863, 0.92156863, 0.92156863, ..., 0.72941176, 0.78431373,\n",
              "        0.78039216],\n",
              "       [0.61960784, 0.74509804, 0.87058824, ..., 0.02745098, 0.03137255,\n",
              "        0.02745098],\n",
              "       ...,\n",
              "       [0.07843137, 0.05882353, 0.04705882, ..., 0.09803922, 0.07843137,\n",
              "        0.18431373],\n",
              "       [0.09803922, 0.15686275, 0.04705882, ..., 0.36078431, 0.47058824,\n",
              "        0.31372549],\n",
              "       [0.28627451, 0.30588235, 0.29411765, ..., 0.10588235, 0.10196078,\n",
              "        0.10196078]])"
            ]
          },
          "metadata": {},
          "execution_count": 8
        }
      ]
    },
    {
      "cell_type": "code",
      "source": [
        "y_train"
      ],
      "metadata": {
        "colab": {
          "base_uri": "https://localhost:8080/"
        },
        "id": "edcKA4DN_Njf",
        "outputId": "49cfe264-717b-4a87-b485-34cdc7ae2cea"
      },
      "execution_count": 9,
      "outputs": [
        {
          "output_type": "execute_result",
          "data": {
            "text/plain": [
              "array([[6],\n",
              "       [9],\n",
              "       [9],\n",
              "       ...,\n",
              "       [9],\n",
              "       [1],\n",
              "       [1]], dtype=uint8)"
            ]
          },
          "metadata": {},
          "execution_count": 9
        }
      ]
    },
    {
      "cell_type": "markdown",
      "source": [
        "# Random Forest"
      ],
      "metadata": {
        "id": "EL2AZCVp_TCD"
      }
    },
    {
      "cell_type": "code",
      "source": [
        "from sklearn.ensemble import RandomForestClassifier"
      ],
      "metadata": {
        "id": "nGs7YJ9U_V5e"
      },
      "execution_count": 10,
      "outputs": []
    },
    {
      "cell_type": "code",
      "source": [
        "model=RandomForestClassifier()"
      ],
      "metadata": {
        "id": "CAr8agXe_Yjd"
      },
      "execution_count": 11,
      "outputs": []
    },
    {
      "cell_type": "code",
      "source": [
        "model.fit(x_train2,y_train.ravel())"
      ],
      "metadata": {
        "colab": {
          "base_uri": "https://localhost:8080/"
        },
        "id": "emaCWBC4CAwv",
        "outputId": "c644cce6-59c5-40dd-c66d-3a3fd9e1c3f5"
      },
      "execution_count": 18,
      "outputs": [
        {
          "output_type": "execute_result",
          "data": {
            "text/plain": [
              "RandomForestClassifier()"
            ]
          },
          "metadata": {},
          "execution_count": 18
        }
      ]
    }
  ]
}